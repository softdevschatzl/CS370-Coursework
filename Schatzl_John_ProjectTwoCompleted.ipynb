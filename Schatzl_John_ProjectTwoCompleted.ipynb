{
 "cells": [
  {
   "cell_type": "markdown",
   "metadata": {},
   "source": [
    "# Treasure Hunt Game Notebook\n",
    "\n",
    "## Read and Review Your Starter Code\n",
    "The theme of this project is a popular treasure hunt game in which the player needs to find the treasure before the pirate does. While you will not be developing the entire game, you will write the part of the game that represents the intelligent agent, which is a pirate in this case. The pirate will try to find the optimal path to the treasure using deep Q-learning. \n",
    "\n",
    "You have been provided with two Python classes and this notebook to help you with this assignment. The first class, TreasureMaze.py, represents the environment, which includes a maze object defined as a matrix. The second class, GameExperience.py, stores the episodes – that is, all the states that come in between the initial state and the terminal state. This is later used by the agent for learning by experience, called \"exploration\". This notebook shows how to play a game. Your task is to complete the deep Q-learning implementation for which a skeleton implementation has been provided. The code blocks you will need to complete has #TODO as a header.\n",
    "\n",
    "First, read and review the next few code and instruction blocks to understand the code that you have been given."
   ]
  },
  {
   "cell_type": "code",
   "execution_count": 2,
   "metadata": {},
   "outputs": [],
   "source": [
    "from __future__ import print_function\n",
    "import os, sys, time, datetime, json, random\n",
    "import numpy as np\n",
    "from keras.models import Sequential\n",
    "from keras.layers.core import Dense, Activation\n",
    "from keras.optimizers import SGD , Adam, RMSprop\n",
    "from keras.layers.advanced_activations import PReLU\n",
    "import matplotlib.pyplot as plt\n",
    "from TreasureMaze import TreasureMaze\n",
    "from GameExperience import GameExperience\n",
    "%matplotlib inline"
   ]
  },
  {
   "cell_type": "markdown",
   "metadata": {},
   "source": [
    "The following code block contains an 8x8 matrix that will be used as a maze object:"
   ]
  },
  {
   "cell_type": "code",
   "execution_count": 3,
   "metadata": {},
   "outputs": [],
   "source": [
    "maze = np.array([\n",
    "    [ 1.,  0.,  1.,  1.,  1.,  1.,  1.,  1.],\n",
    "    [ 1.,  0.,  1.,  1.,  1.,  0.,  1.,  1.],\n",
    "    [ 1.,  1.,  1.,  1.,  0.,  1.,  0.,  1.],\n",
    "    [ 1.,  1.,  1.,  0.,  1.,  1.,  1.,  1.],\n",
    "    [ 1.,  1.,  0.,  1.,  1.,  1.,  1.,  1.],\n",
    "    [ 1.,  1.,  1.,  0.,  1.,  0.,  0.,  0.],\n",
    "    [ 1.,  1.,  1.,  0.,  1.,  1.,  1.,  1.],\n",
    "    [ 1.,  1.,  1.,  1.,  0.,  1.,  1.,  1.]\n",
    "])"
   ]
  },
  {
   "cell_type": "markdown",
   "metadata": {},
   "source": [
    "This helper function allows a visual representation of the maze object:"
   ]
  },
  {
   "cell_type": "code",
   "execution_count": 4,
   "metadata": {},
   "outputs": [],
   "source": [
    "def show(qmaze):\n",
    "    plt.grid('on')\n",
    "    nrows, ncols = qmaze.maze.shape\n",
    "    ax = plt.gca()\n",
    "    ax.set_xticks(np.arange(0.5, nrows, 1))\n",
    "    ax.set_yticks(np.arange(0.5, ncols, 1))\n",
    "    ax.set_xticklabels([])\n",
    "    ax.set_yticklabels([])\n",
    "    canvas = np.copy(qmaze.maze)\n",
    "    for row,col in qmaze.visited:\n",
    "        canvas[row,col] = 0.6\n",
    "    pirate_row, pirate_col, _ = qmaze.state\n",
    "    canvas[pirate_row, pirate_col] = 0.3   # pirate cell\n",
    "    canvas[nrows-1, ncols-1] = 0.9 # treasure cell\n",
    "    img = plt.imshow(canvas, interpolation='none', cmap='gray')\n",
    "    return img"
   ]
  },
  {
   "cell_type": "markdown",
   "metadata": {},
   "source": [
    "The pirate agent can move in four directions: left, right, up, and down. \n",
    "\n",
    "While the agent primarily learns by experience through exploitation, often, the agent can choose to explore the environment to find previously undiscovered paths. This is called \"exploration\" and is defined by epsilon. This value is typically a lower value such as 0.1, which means for every ten attempts, the agent will attempt to learn by experience nine times and will randomly explore a new path one time. You are encouraged to try various values for the exploration factor and see how the algorithm performs."
   ]
  },
  {
   "cell_type": "code",
   "execution_count": 5,
   "metadata": {},
   "outputs": [],
   "source": [
    "LEFT = 0\n",
    "UP = 1\n",
    "RIGHT = 2\n",
    "DOWN = 3\n",
    "\n",
    "\n",
    "# Exploration factor\n",
    "epsilon = 0.1\n",
    "\n",
    "# Actions dictionary\n",
    "actions_dict = {\n",
    "    LEFT: 'left',\n",
    "    UP: 'up',\n",
    "    RIGHT: 'right',\n",
    "    DOWN: 'down',\n",
    "}\n",
    "\n",
    "num_actions = len(actions_dict)\n"
   ]
  },
  {
   "cell_type": "markdown",
   "metadata": {},
   "source": [
    "The sample code block and output below show creating a maze object and performing one action (DOWN), which returns the reward. The resulting updated environment is visualized."
   ]
  },
  {
   "cell_type": "code",
   "execution_count": 6,
   "metadata": {},
   "outputs": [
    {
     "name": "stdout",
     "output_type": "stream",
     "text": [
      "reward= -0.04\n"
     ]
    },
    {
     "data": {
      "text/plain": [
       "<matplotlib.image.AxesImage at 0x27ea2f7df08>"
      ]
     },
     "execution_count": 6,
     "metadata": {},
     "output_type": "execute_result"
    },
    {
     "data": {
      "image/png": "[encoded data removed]",
      "text/plain": [
       "<Figure size 432x288 with 1 Axes>"
      ]
     },
     "metadata": {
      "needs_background": "light"
     },
     "output_type": "display_data"
    }
   ],
   "source": [
    "qmaze = TreasureMaze(maze)\n",
    "canvas, reward, game_over = qmaze.act(DOWN)\n",
    "print(\"reward=\", reward)\n",
    "show(qmaze)"
   ]
  },
  {
   "cell_type": "markdown",
   "metadata": {},
   "source": [
    "This function simulates a full game based on the provided trained model. The other parameters include the TreasureMaze object and the starting position of the pirate."
   ]
  },
  {
   "cell_type": "code",
   "execution_count": 7,
   "metadata": {},
   "outputs": [],
   "source": [
    "def play_game(model, qmaze, pirate_cell):\n",
    "    qmaze.reset(pirate_cell)\n",
    "    envstate = qmaze.observe()\n",
    "    while True:\n",
    "        prev_envstate = envstate\n",
    "        # get next action\n",
    "        q = model.predict(prev_envstate)\n",
    "        action = np.argmax(q[0])\n",
    "\n",
    "        # apply action, get rewards and new state\n",
    "        envstate, reward, game_status = qmaze.act(action)\n",
    "        if game_status == 'win':\n",
    "            return True\n",
    "        elif game_status == 'lose':\n",
    "            return False"
   ]
  },
  {
   "cell_type": "markdown",
   "metadata": {},
   "source": [
    "This function helps you to determine whether the pirate can win any game at all. If your maze is not well designed, the pirate may not win any game at all. In this case, your training would not yield any result. The provided maze in this notebook ensures that there is a path to win and you can run this method to check."
   ]
  },
  {
   "cell_type": "code",
   "execution_count": 8,
   "metadata": {},
   "outputs": [],
   "source": [
    "def completion_check(model, qmaze):\n",
    "    for cell in qmaze.free_cells:\n",
    "        if not qmaze.valid_actions(cell):\n",
    "            return False\n",
    "        if not play_game(model, qmaze, cell):\n",
    "            return False\n",
    "    return True"
   ]
  },
  {
   "cell_type": "markdown",
   "metadata": {},
   "source": [
    "The code you have been given in this block will build the neural network model. Review the code and note the number of layers, as well as the activation, optimizer, and loss functions that are used to train the model."
   ]
  },
  {
   "cell_type": "code",
   "execution_count": 9,
   "metadata": {},
   "outputs": [],
   "source": [
    "def build_model(maze):\n",
    "    model = Sequential()\n",
    "    model.add(Dense(maze.size, input_shape=(maze.size,)))\n",
    "    model.add(PReLU())\n",
    "    model.add(Dense(maze.size))\n",
    "    model.add(PReLU())\n",
    "    model.add(Dense(num_actions))\n",
    "    model.compile(optimizer='adam', loss='mse')\n",
    "    return model"
   ]
  },
  {
   "cell_type": "markdown",
   "metadata": {},
   "source": [
    "# #TODO: Complete the Q-Training Algorithm Code Block\n",
    "\n",
    "This is your deep Q-learning implementation. The goal of your deep Q-learning implementation is to find the best possible navigation sequence that results in reaching the treasure cell while maximizing the reward. In your implementation, you need to determine the optimal number of epochs to achieve a 100% win rate.\n",
    "\n",
    "You will need to complete the section starting with #pseudocode. The pseudocode has been included for you."
   ]
  },
  {
   "cell_type": "code",
   "execution_count": 10,
   "metadata": {},
   "outputs": [],
   "source": [
    "def qtrain(model, maze, **opt):\n",
    "\n",
    "    # exploration factor\n",
    "    global epsilon \n",
    "\n",
    "    # number of epochs\n",
    "    n_epoch = opt.get('n_epoch', 15000)\n",
    "\n",
    "    # maximum memory to store episodes\n",
    "    max_memory = opt.get('max_memory', 1000)\n",
    "\n",
    "    # maximum data size for training\n",
    "    data_size = opt.get('data_size', 50)\n",
    "\n",
    "    # start time\n",
    "    start_time = datetime.datetime.now()\n",
    "\n",
    "    # Construct environment/game from numpy array: maze (see above)\n",
    "    qmaze = TreasureMaze(maze)\n",
    "\n",
    "    # Initialize experience replay object\n",
    "    experience = GameExperience(model, max_memory=max_memory)\n",
    "    \n",
    "    win_history = []   # history of win/lose game\n",
    "    hsize = qmaze.maze.size//2   # history window size\n",
    "    win_rate = 0.0\n",
    "    \n",
    "    # pseudocode:\n",
    "    # For each epoch:\n",
    "    for epoch in range(n_epoch):\n",
    "    #    Agent_cell = randomly select a free cell\n",
    "        agent_cell = random.choice(qmaze.free_cells)\n",
    "    #    Reset the maze with agent set to above position\n",
    "        qmaze.reset(agent_cell)\n",
    "    #    Hint: Review the reset method in the TreasureMaze.py class.\n",
    "    #    envstate = Environment.current_state\n",
    "        envstate = qmaze.observe()\n",
    "    #    Hint: Review the observe method in the TreasureMaze.py class.\n",
    "    #    While state is not game over:\n",
    "        n_episodes = 0\n",
    "        while True:\n",
    "    #        previous_envstate = envstate\n",
    "            previous_envstate = envstate\n",
    "    #        Action = randomly choose action (left, right, up, down) either by exploration or by exploitation\n",
    "            if np.random.rand() < epsilon:\n",
    "                action = np.random.randint(0, num_actions)\n",
    "    #        envstate, reward, game_status = qmaze.act(action)\n",
    "            else:\n",
    "                q = model.predict(previous_envstate)\n",
    "                action = np.argmax(q[0])\n",
    "            envstate, reward, game_status = qmaze.act(action)\n",
    "    #    Hint: Review the act method in the TreasureMaze.py class.\n",
    "    #        episode = [previous_envstate, action, reward, envstate, game_status]\n",
    "            episode = [previous_envstate, action, reward, envstate, game_status]\n",
    "    #        Store episode in Experience replay object\n",
    "            experience.remember(episode)\n",
    "    #    Hint: Review the remember method in the GameExperience.py class.\n",
    "    #        Train neural network model and evaluate loss\n",
    "            inputs, targets = experience.get_data(data_size=data_size)\n",
    "    #    Hint: Call GameExperience.get_data to retrieve training data (input and target) and pass to model.fit method \n",
    "    #          to train the model. You can call model.evaluate to determine loss.\n",
    "            loss = model.train_on_batch(inputs, targets)\n",
    "    #    If the win rate is above the threshold and your model passes the completion check, that would be your epoch.\n",
    "            if game_status == 'win':\n",
    "                win_history.append(1)\n",
    "                win_rate = sum(win_history[-hsize:])/hsize\n",
    "                break\n",
    "\n",
    "    #Print the epoch, loss, episodes, win count, and win rate for each epoch\n",
    "        dt = datetime.datetime.now() - start_time\n",
    "        t = format_time(dt.total_seconds())\n",
    "        template = \"Epoch: {:03d}/{:d} | Loss: {:.4f} | Episodes: {:d} | Win count: {:d} | Win rate: {:.3f} | time: {}\"\n",
    "        print(template.format(epoch, n_epoch-1, loss, n_episodes, sum(win_history), win_rate, t))\n",
    "        # We simply check if training has exhausted all free cells and if in all\n",
    "        # cases the agent won.\n",
    "        if win_rate > 0.9 : epsilon = 0.05\n",
    "        if sum(win_history[-hsize:]) == hsize and completion_check(model, qmaze):\n",
    "            print(\"Reached 100%% win rate at epoch: %d\" % (epoch,))\n",
    "            break\n",
    "    \n",
    "    \n",
    "    # Determine the total time for training\n",
    "    dt = datetime.datetime.now() - start_time\n",
    "    seconds = dt.total_seconds()\n",
    "    t = format_time(seconds)\n",
    "\n",
    "    print(\"n_epoch: %d, max_mem: %d, data: %d, time: %s\" % (epoch, max_memory, data_size, t))\n",
    "    return seconds\n",
    "\n",
    "# This is a small utility for printing readable time strings:\n",
    "def format_time(seconds):\n",
    "    if seconds < 400:\n",
    "        s = float(seconds)\n",
    "        return \"%.1f seconds\" % (s,)\n",
    "    elif seconds < 4000:\n",
    "        m = seconds / 60.0\n",
    "        return \"%.2f minutes\" % (m,)\n",
    "    else:\n",
    "        h = seconds / 3600.0\n",
    "        return \"%.2f hours\" % (h,)"
   ]
  },
  {
   "cell_type": "markdown",
   "metadata": {},
   "source": [
    "## Test Your Model\n",
    "\n",
    "Now we will start testing the deep Q-learning implementation. To begin, select **Cell**, then **Run All** from the menu bar. This will run your notebook. As it runs, you should see output begin to appear beneath the next few cells. The code below creates an instance of TreasureMaze."
   ]
  },
  {
   "cell_type": "code",
   "execution_count": 11,
   "metadata": {},
   "outputs": [
    {
     "data": {
      "text/plain": [
       "<matplotlib.image.AxesImage at 0x27ea3040f48>"
      ]
     },
     "execution_count": 11,
     "metadata": {},
     "output_type": "execute_result"
    },
    {
     "data": {
      "image/png": "[encoded data removed]",
      "text/plain": [
       "<Figure size 432x288 with 1 Axes>"
      ]
     },
     "metadata": {
      "needs_background": "light"
     },
     "output_type": "display_data"
    }
   ],
   "source": [
    "qmaze = TreasureMaze(maze)\n",
    "show(qmaze)"
   ]
  },
  {
   "cell_type": "markdown",
   "metadata": {},
   "source": [
    "In the next code block, you will build your model and train it using deep Q-learning. Note: This step takes several minutes to fully run."
   ]
  },
  {
   "cell_type": "code",
   "execution_count": 12,
   "metadata": {},
   "outputs": [
    {
     "name": "stdout",
     "output_type": "stream",
     "text": [
      "Epoch: 000/14999 | Loss: 0.0001 | Episodes: 0 | Win count: 1 | Win rate: 0.031 | time: 10.59 minutes\n",
      "Epoch: 001/14999 | Loss: 0.0006 | Episodes: 0 | Win count: 2 | Win rate: 0.062 | time: 37.59 minutes\n",
      "Epoch: 002/14999 | Loss: 0.0000 | Episodes: 0 | Win count: 3 | Win rate: 0.094 | time: 45.21 minutes\n",
      "Epoch: 003/14999 | Loss: 0.0006 | Episodes: 0 | Win count: 4 | Win rate: 0.125 | time: 45.41 minutes\n",
      "Epoch: 004/14999 | Loss: 0.0008 | Episodes: 0 | Win count: 5 | Win rate: 0.156 | time: 46.35 minutes\n",
      "Epoch: 005/14999 | Loss: 0.0012 | Episodes: 0 | Win count: 6 | Win rate: 0.188 | time: 46.46 minutes\n",
      "Epoch: 006/14999 | Loss: 0.0012 | Episodes: 0 | Win count: 7 | Win rate: 0.219 | time: 46.49 minutes\n",
      "Epoch: 007/14999 | Loss: 0.0010 | Episodes: 0 | Win count: 8 | Win rate: 0.250 | time: 46.64 minutes\n",
      "Epoch: 008/14999 | Loss: 0.0007 | Episodes: 0 | Win count: 9 | Win rate: 0.281 | time: 48.41 minutes\n",
      "Epoch: 009/14999 | Loss: 0.0011 | Episodes: 0 | Win count: 10 | Win rate: 0.312 | time: 48.44 minutes\n",
      "Epoch: 010/14999 | Loss: 0.0008 | Episodes: 0 | Win count: 11 | Win rate: 0.344 | time: 48.72 minutes\n",
      "Epoch: 011/14999 | Loss: 0.0008 | Episodes: 0 | Win count: 12 | Win rate: 0.375 | time: 48.80 minutes\n",
      "Epoch: 012/14999 | Loss: 0.0007 | Episodes: 0 | Win count: 13 | Win rate: 0.406 | time: 48.90 minutes\n",
      "Epoch: 013/14999 | Loss: 0.0004 | Episodes: 0 | Win count: 14 | Win rate: 0.438 | time: 49.89 minutes\n",
      "Epoch: 014/14999 | Loss: 0.0012 | Episodes: 0 | Win count: 15 | Win rate: 0.469 | time: 50.01 minutes\n",
      "Epoch: 015/14999 | Loss: 0.0011 | Episodes: 0 | Win count: 16 | Win rate: 0.500 | time: 50.03 minutes\n",
      "Epoch: 016/14999 | Loss: 0.0008 | Episodes: 0 | Win count: 17 | Win rate: 0.531 | time: 50.76 minutes\n",
      "Epoch: 017/14999 | Loss: 0.0013 | Episodes: 0 | Win count: 18 | Win rate: 0.562 | time: 50.77 minutes\n",
      "Epoch: 018/14999 | Loss: 0.0009 | Episodes: 0 | Win count: 19 | Win rate: 0.594 | time: 50.88 minutes\n",
      "Epoch: 019/14999 | Loss: 0.0008 | Episodes: 0 | Win count: 20 | Win rate: 0.625 | time: 51.05 minutes\n",
      "Epoch: 020/14999 | Loss: 0.0011 | Episodes: 0 | Win count: 21 | Win rate: 0.656 | time: 51.13 minutes\n",
      "Epoch: 021/14999 | Loss: 0.0018 | Episodes: 0 | Win count: 22 | Win rate: 0.688 | time: 51.15 minutes\n",
      "Epoch: 022/14999 | Loss: 0.0010 | Episodes: 0 | Win count: 23 | Win rate: 0.719 | time: 51.20 minutes\n",
      "Epoch: 023/14999 | Loss: 0.0013 | Episodes: 0 | Win count: 24 | Win rate: 0.750 | time: 51.28 minutes\n",
      "Epoch: 024/14999 | Loss: 0.0013 | Episodes: 0 | Win count: 25 | Win rate: 0.781 | time: 51.29 minutes\n",
      "Epoch: 025/14999 | Loss: 0.0008 | Episodes: 0 | Win count: 26 | Win rate: 0.812 | time: 51.31 minutes\n",
      "Epoch: 026/14999 | Loss: 0.0009 | Episodes: 0 | Win count: 27 | Win rate: 0.844 | time: 51.35 minutes\n",
      "Epoch: 027/14999 | Loss: 0.0011 | Episodes: 0 | Win count: 28 | Win rate: 0.875 | time: 51.45 minutes\n",
      "Epoch: 028/14999 | Loss: 0.0011 | Episodes: 0 | Win count: 29 | Win rate: 0.906 | time: 51.48 minutes\n",
      "Epoch: 029/14999 | Loss: 0.0012 | Episodes: 0 | Win count: 30 | Win rate: 0.938 | time: 51.50 minutes\n",
      "Epoch: 030/14999 | Loss: 0.0009 | Episodes: 0 | Win count: 31 | Win rate: 0.969 | time: 51.55 minutes\n",
      "Epoch: 031/14999 | Loss: 0.0009 | Episodes: 0 | Win count: 32 | Win rate: 1.000 | time: 51.56 minutes\n",
      "Epoch: 032/14999 | Loss: 0.0012 | Episodes: 0 | Win count: 33 | Win rate: 1.000 | time: 51.58 minutes\n",
      "Epoch: 033/14999 | Loss: 0.0019 | Episodes: 0 | Win count: 34 | Win rate: 1.000 | time: 51.59 minutes\n",
      "Epoch: 034/14999 | Loss: 0.0010 | Episodes: 0 | Win count: 35 | Win rate: 1.000 | time: 51.64 minutes\n",
      "Epoch: 035/14999 | Loss: 0.0008 | Episodes: 0 | Win count: 36 | Win rate: 1.000 | time: 51.70 minutes\n",
      "Epoch: 036/14999 | Loss: 0.0010 | Episodes: 0 | Win count: 37 | Win rate: 1.000 | time: 51.75 minutes\n",
      "Epoch: 037/14999 | Loss: 0.0013 | Episodes: 0 | Win count: 38 | Win rate: 1.000 | time: 51.84 minutes\n",
      "Epoch: 038/14999 | Loss: 0.0009 | Episodes: 0 | Win count: 39 | Win rate: 1.000 | time: 51.89 minutes\n",
      "Epoch: 039/14999 | Loss: 0.0008 | Episodes: 0 | Win count: 40 | Win rate: 1.000 | time: 51.94 minutes\n",
      "Epoch: 040/14999 | Loss: 0.0015 | Episodes: 0 | Win count: 41 | Win rate: 1.000 | time: 52.00 minutes\n",
      "Epoch: 041/14999 | Loss: 0.0012 | Episodes: 0 | Win count: 42 | Win rate: 1.000 | time: 52.03 minutes\n",
      "Epoch: 042/14999 | Loss: 0.0006 | Episodes: 0 | Win count: 43 | Win rate: 1.000 | time: 52.09 minutes\n",
      "Epoch: 043/14999 | Loss: 0.0010 | Episodes: 0 | Win count: 44 | Win rate: 1.000 | time: 52.11 minutes\n",
      "Epoch: 044/14999 | Loss: 0.0008 | Episodes: 0 | Win count: 45 | Win rate: 1.000 | time: 52.13 minutes\n",
      "Epoch: 045/14999 | Loss: 0.0007 | Episodes: 0 | Win count: 46 | Win rate: 1.000 | time: 52.21 minutes\n",
      "Epoch: 046/14999 | Loss: 0.0006 | Episodes: 0 | Win count: 47 | Win rate: 1.000 | time: 52.27 minutes\n",
      "Epoch: 047/14999 | Loss: 0.0011 | Episodes: 0 | Win count: 48 | Win rate: 1.000 | time: 52.28 minutes\n",
      "Epoch: 048/14999 | Loss: 0.0013 | Episodes: 0 | Win count: 49 | Win rate: 1.000 | time: 52.31 minutes\n",
      "Epoch: 049/14999 | Loss: 0.0008 | Episodes: 0 | Win count: 50 | Win rate: 1.000 | time: 52.40 minutes\n",
      "Epoch: 050/14999 | Loss: 0.0006 | Episodes: 0 | Win count: 51 | Win rate: 1.000 | time: 52.77 minutes\n",
      "Epoch: 051/14999 | Loss: 0.0005 | Episodes: 0 | Win count: 52 | Win rate: 1.000 | time: 52.78 minutes\n",
      "Epoch: 052/14999 | Loss: 0.0007 | Episodes: 0 | Win count: 53 | Win rate: 1.000 | time: 52.82 minutes\n",
      "Epoch: 053/14999 | Loss: 0.0014 | Episodes: 0 | Win count: 54 | Win rate: 1.000 | time: 52.87 minutes\n",
      "Epoch: 054/14999 | Loss: 0.0014 | Episodes: 0 | Win count: 55 | Win rate: 1.000 | time: 52.89 minutes\n",
      "Epoch: 055/14999 | Loss: 0.0008 | Episodes: 0 | Win count: 56 | Win rate: 1.000 | time: 52.94 minutes\n",
      "Epoch: 056/14999 | Loss: 0.0011 | Episodes: 0 | Win count: 57 | Win rate: 1.000 | time: 53.02 minutes\n",
      "Epoch: 057/14999 | Loss: 0.0012 | Episodes: 0 | Win count: 58 | Win rate: 1.000 | time: 53.08 minutes\n",
      "Epoch: 058/14999 | Loss: 0.0008 | Episodes: 0 | Win count: 59 | Win rate: 1.000 | time: 53.11 minutes\n",
      "Epoch: 059/14999 | Loss: 0.0012 | Episodes: 0 | Win count: 60 | Win rate: 1.000 | time: 53.21 minutes\n",
      "Epoch: 060/14999 | Loss: 0.0011 | Episodes: 0 | Win count: 61 | Win rate: 1.000 | time: 53.37 minutes\n",
      "Epoch: 061/14999 | Loss: 0.0006 | Episodes: 0 | Win count: 62 | Win rate: 1.000 | time: 53.44 minutes\n",
      "Epoch: 062/14999 | Loss: 0.0008 | Episodes: 0 | Win count: 63 | Win rate: 1.000 | time: 53.55 minutes\n",
      "Epoch: 063/14999 | Loss: 0.0007 | Episodes: 0 | Win count: 64 | Win rate: 1.000 | time: 53.64 minutes\n",
      "Epoch: 064/14999 | Loss: 0.0011 | Episodes: 0 | Win count: 65 | Win rate: 1.000 | time: 53.71 minutes\n",
      "Epoch: 065/14999 | Loss: 0.0014 | Episodes: 0 | Win count: 66 | Win rate: 1.000 | time: 53.85 minutes\n",
      "Epoch: 066/14999 | Loss: 0.0014 | Episodes: 0 | Win count: 67 | Win rate: 1.000 | time: 53.91 minutes\n",
      "Epoch: 067/14999 | Loss: 0.0019 | Episodes: 0 | Win count: 68 | Win rate: 1.000 | time: 53.93 minutes\n",
      "Epoch: 068/14999 | Loss: 0.0018 | Episodes: 0 | Win count: 69 | Win rate: 1.000 | time: 53.95 minutes\n",
      "Epoch: 069/14999 | Loss: 0.0009 | Episodes: 0 | Win count: 70 | Win rate: 1.000 | time: 53.96 minutes\n",
      "Epoch: 070/14999 | Loss: 0.0014 | Episodes: 0 | Win count: 71 | Win rate: 1.000 | time: 54.03 minutes\n",
      "Epoch: 071/14999 | Loss: 0.0013 | Episodes: 0 | Win count: 72 | Win rate: 1.000 | time: 54.04 minutes\n",
      "Epoch: 072/14999 | Loss: 0.0010 | Episodes: 0 | Win count: 73 | Win rate: 1.000 | time: 54.11 minutes\n",
      "Epoch: 073/14999 | Loss: 0.0007 | Episodes: 0 | Win count: 74 | Win rate: 1.000 | time: 54.11 minutes\n",
      "Epoch: 074/14999 | Loss: 0.0013 | Episodes: 0 | Win count: 75 | Win rate: 1.000 | time: 54.22 minutes\n",
      "Epoch: 075/14999 | Loss: 0.0009 | Episodes: 0 | Win count: 76 | Win rate: 1.000 | time: 54.29 minutes\n",
      "Epoch: 076/14999 | Loss: 0.0014 | Episodes: 0 | Win count: 77 | Win rate: 1.000 | time: 54.34 minutes\n",
      "Epoch: 077/14999 | Loss: 0.0008 | Episodes: 0 | Win count: 78 | Win rate: 1.000 | time: 54.47 minutes\n",
      "Epoch: 078/14999 | Loss: 0.0008 | Episodes: 0 | Win count: 79 | Win rate: 1.000 | time: 54.48 minutes\n",
      "Epoch: 079/14999 | Loss: 0.0005 | Episodes: 0 | Win count: 80 | Win rate: 1.000 | time: 54.52 minutes\n",
      "Epoch: 080/14999 | Loss: 0.0007 | Episodes: 0 | Win count: 81 | Win rate: 1.000 | time: 54.54 minutes\n"
     ]
    },
    {
     "name": "stdout",
     "output_type": "stream",
     "text": [
      "Epoch: 081/14999 | Loss: 0.0013 | Episodes: 0 | Win count: 82 | Win rate: 1.000 | time: 54.56 minutes\n",
      "Epoch: 082/14999 | Loss: 0.0010 | Episodes: 0 | Win count: 83 | Win rate: 1.000 | time: 54.64 minutes\n",
      "Epoch: 083/14999 | Loss: 0.0007 | Episodes: 0 | Win count: 84 | Win rate: 1.000 | time: 54.79 minutes\n",
      "Epoch: 084/14999 | Loss: 0.0008 | Episodes: 0 | Win count: 85 | Win rate: 1.000 | time: 54.85 minutes\n",
      "Epoch: 085/14999 | Loss: 0.0009 | Episodes: 0 | Win count: 86 | Win rate: 1.000 | time: 54.85 minutes\n",
      "Epoch: 086/14999 | Loss: 0.0009 | Episodes: 0 | Win count: 87 | Win rate: 1.000 | time: 54.89 minutes\n",
      "Epoch: 087/14999 | Loss: 0.0004 | Episodes: 0 | Win count: 88 | Win rate: 1.000 | time: 54.93 minutes\n",
      "Epoch: 088/14999 | Loss: 0.0016 | Episodes: 0 | Win count: 89 | Win rate: 1.000 | time: 54.95 minutes\n",
      "Epoch: 089/14999 | Loss: 0.0011 | Episodes: 0 | Win count: 90 | Win rate: 1.000 | time: 54.97 minutes\n",
      "Epoch: 090/14999 | Loss: 0.0009 | Episodes: 0 | Win count: 91 | Win rate: 1.000 | time: 55.04 minutes\n",
      "Epoch: 091/14999 | Loss: 0.0007 | Episodes: 0 | Win count: 92 | Win rate: 1.000 | time: 55.21 minutes\n",
      "Epoch: 092/14999 | Loss: 0.0013 | Episodes: 0 | Win count: 93 | Win rate: 1.000 | time: 55.25 minutes\n",
      "Epoch: 093/14999 | Loss: 0.0008 | Episodes: 0 | Win count: 94 | Win rate: 1.000 | time: 55.26 minutes\n",
      "Epoch: 094/14999 | Loss: 0.0006 | Episodes: 0 | Win count: 95 | Win rate: 1.000 | time: 55.33 minutes\n",
      "Epoch: 095/14999 | Loss: 0.0007 | Episodes: 0 | Win count: 96 | Win rate: 1.000 | time: 55.34 minutes\n",
      "Epoch: 096/14999 | Loss: 0.0003 | Episodes: 0 | Win count: 97 | Win rate: 1.000 | time: 55.49 minutes\n",
      "Epoch: 097/14999 | Loss: 0.0004 | Episodes: 0 | Win count: 98 | Win rate: 1.000 | time: 55.49 minutes\n",
      "Epoch: 098/14999 | Loss: 0.0009 | Episodes: 0 | Win count: 99 | Win rate: 1.000 | time: 55.55 minutes\n",
      "Epoch: 099/14999 | Loss: 0.0003 | Episodes: 0 | Win count: 100 | Win rate: 1.000 | time: 55.60 minutes\n",
      "Epoch: 100/14999 | Loss: 0.0010 | Episodes: 0 | Win count: 101 | Win rate: 1.000 | time: 55.64 minutes\n",
      "Epoch: 101/14999 | Loss: 0.0002 | Episodes: 0 | Win count: 102 | Win rate: 1.000 | time: 55.65 minutes\n",
      "Epoch: 102/14999 | Loss: 0.0004 | Episodes: 0 | Win count: 103 | Win rate: 1.000 | time: 55.65 minutes\n",
      "Epoch: 103/14999 | Loss: 0.0004 | Episodes: 0 | Win count: 104 | Win rate: 1.000 | time: 55.71 minutes\n",
      "Epoch: 104/14999 | Loss: 0.0004 | Episodes: 0 | Win count: 105 | Win rate: 1.000 | time: 55.74 minutes\n",
      "Epoch: 105/14999 | Loss: 0.0006 | Episodes: 0 | Win count: 106 | Win rate: 1.000 | time: 55.74 minutes\n",
      "Epoch: 106/14999 | Loss: 0.0002 | Episodes: 0 | Win count: 107 | Win rate: 1.000 | time: 55.89 minutes\n",
      "Epoch: 107/14999 | Loss: 0.0002 | Episodes: 0 | Win count: 108 | Win rate: 1.000 | time: 55.90 minutes\n",
      "Epoch: 108/14999 | Loss: 0.0002 | Episodes: 0 | Win count: 109 | Win rate: 1.000 | time: 55.94 minutes\n",
      "Epoch: 109/14999 | Loss: 0.0004 | Episodes: 0 | Win count: 110 | Win rate: 1.000 | time: 56.01 minutes\n",
      "Epoch: 110/14999 | Loss: 0.0002 | Episodes: 0 | Win count: 111 | Win rate: 1.000 | time: 56.14 minutes\n",
      "Epoch: 111/14999 | Loss: 0.0009 | Episodes: 0 | Win count: 112 | Win rate: 1.000 | time: 56.17 minutes\n",
      "Epoch: 112/14999 | Loss: 0.0002 | Episodes: 0 | Win count: 113 | Win rate: 1.000 | time: 56.20 minutes\n",
      "Epoch: 113/14999 | Loss: 0.0007 | Episodes: 0 | Win count: 114 | Win rate: 1.000 | time: 56.27 minutes\n",
      "Epoch: 114/14999 | Loss: 0.0007 | Episodes: 0 | Win count: 115 | Win rate: 1.000 | time: 56.28 minutes\n",
      "Epoch: 115/14999 | Loss: 0.0004 | Episodes: 0 | Win count: 116 | Win rate: 1.000 | time: 56.32 minutes\n",
      "Epoch: 116/14999 | Loss: 0.0003 | Episodes: 0 | Win count: 117 | Win rate: 1.000 | time: 56.37 minutes\n",
      "Epoch: 117/14999 | Loss: 0.0003 | Episodes: 0 | Win count: 118 | Win rate: 1.000 | time: 56.44 minutes\n",
      "Epoch: 118/14999 | Loss: 0.0002 | Episodes: 0 | Win count: 119 | Win rate: 1.000 | time: 56.45 minutes\n",
      "Epoch: 119/14999 | Loss: 0.0003 | Episodes: 0 | Win count: 120 | Win rate: 1.000 | time: 56.71 minutes\n",
      "Epoch: 120/14999 | Loss: 0.0005 | Episodes: 0 | Win count: 121 | Win rate: 1.000 | time: 56.77 minutes\n",
      "Epoch: 121/14999 | Loss: 0.0003 | Episodes: 0 | Win count: 122 | Win rate: 1.000 | time: 56.83 minutes\n",
      "Epoch: 122/14999 | Loss: 0.0002 | Episodes: 0 | Win count: 123 | Win rate: 1.000 | time: 56.86 minutes\n",
      "Epoch: 123/14999 | Loss: 0.0004 | Episodes: 0 | Win count: 124 | Win rate: 1.000 | time: 56.87 minutes\n",
      "Epoch: 124/14999 | Loss: 0.0001 | Episodes: 0 | Win count: 125 | Win rate: 1.000 | time: 56.93 minutes\n",
      "Epoch: 125/14999 | Loss: 0.0004 | Episodes: 0 | Win count: 126 | Win rate: 1.000 | time: 56.96 minutes\n",
      "Epoch: 126/14999 | Loss: 0.0011 | Episodes: 0 | Win count: 127 | Win rate: 1.000 | time: 57.00 minutes\n",
      "Epoch: 127/14999 | Loss: 0.0002 | Episodes: 0 | Win count: 128 | Win rate: 1.000 | time: 57.05 minutes\n",
      "Epoch: 128/14999 | Loss: 0.0005 | Episodes: 0 | Win count: 129 | Win rate: 1.000 | time: 57.11 minutes\n",
      "Epoch: 129/14999 | Loss: 0.0004 | Episodes: 0 | Win count: 130 | Win rate: 1.000 | time: 57.13 minutes\n",
      "Epoch: 130/14999 | Loss: 0.0011 | Episodes: 0 | Win count: 131 | Win rate: 1.000 | time: 57.25 minutes\n",
      "Epoch: 131/14999 | Loss: 0.0004 | Episodes: 0 | Win count: 132 | Win rate: 1.000 | time: 57.26 minutes\n",
      "Epoch: 132/14999 | Loss: 0.0007 | Episodes: 0 | Win count: 133 | Win rate: 1.000 | time: 57.29 minutes\n",
      "Epoch: 133/14999 | Loss: 0.0008 | Episodes: 0 | Win count: 134 | Win rate: 1.000 | time: 57.39 minutes\n",
      "Epoch: 134/14999 | Loss: 0.0002 | Episodes: 0 | Win count: 135 | Win rate: 1.000 | time: 57.44 minutes\n",
      "Epoch: 135/14999 | Loss: 0.0005 | Episodes: 0 | Win count: 136 | Win rate: 1.000 | time: 57.49 minutes\n",
      "Epoch: 136/14999 | Loss: 0.0004 | Episodes: 0 | Win count: 137 | Win rate: 1.000 | time: 57.52 minutes\n",
      "Epoch: 137/14999 | Loss: 0.0002 | Episodes: 0 | Win count: 138 | Win rate: 1.000 | time: 57.57 minutes\n",
      "Epoch: 138/14999 | Loss: 0.0005 | Episodes: 0 | Win count: 139 | Win rate: 1.000 | time: 57.63 minutes\n",
      "Epoch: 139/14999 | Loss: 0.0008 | Episodes: 0 | Win count: 140 | Win rate: 1.000 | time: 57.64 minutes\n",
      "Epoch: 140/14999 | Loss: 0.0010 | Episodes: 0 | Win count: 141 | Win rate: 1.000 | time: 57.72 minutes\n",
      "Epoch: 141/14999 | Loss: 0.0006 | Episodes: 0 | Win count: 142 | Win rate: 1.000 | time: 57.82 minutes\n",
      "Epoch: 142/14999 | Loss: 0.0006 | Episodes: 0 | Win count: 143 | Win rate: 1.000 | time: 57.88 minutes\n",
      "Epoch: 143/14999 | Loss: 0.0005 | Episodes: 0 | Win count: 144 | Win rate: 1.000 | time: 57.94 minutes\n",
      "Epoch: 144/14999 | Loss: 0.0006 | Episodes: 0 | Win count: 145 | Win rate: 1.000 | time: 57.99 minutes\n",
      "Epoch: 145/14999 | Loss: 0.0005 | Episodes: 0 | Win count: 146 | Win rate: 1.000 | time: 57.99 minutes\n",
      "Epoch: 146/14999 | Loss: 0.0002 | Episodes: 0 | Win count: 147 | Win rate: 1.000 | time: 58.05 minutes\n",
      "Epoch: 147/14999 | Loss: 0.0012 | Episodes: 0 | Win count: 148 | Win rate: 1.000 | time: 58.08 minutes\n",
      "Epoch: 148/14999 | Loss: 0.0005 | Episodes: 0 | Win count: 149 | Win rate: 1.000 | time: 58.15 minutes\n",
      "Epoch: 149/14999 | Loss: 0.0010 | Episodes: 0 | Win count: 150 | Win rate: 1.000 | time: 58.22 minutes\n",
      "Epoch: 150/14999 | Loss: 0.0008 | Episodes: 0 | Win count: 151 | Win rate: 1.000 | time: 58.28 minutes\n",
      "Epoch: 151/14999 | Loss: 0.0007 | Episodes: 0 | Win count: 152 | Win rate: 1.000 | time: 58.30 minutes\n",
      "Epoch: 152/14999 | Loss: 0.0003 | Episodes: 0 | Win count: 153 | Win rate: 1.000 | time: 58.37 minutes\n",
      "Epoch: 153/14999 | Loss: 0.0009 | Episodes: 0 | Win count: 154 | Win rate: 1.000 | time: 58.43 minutes\n",
      "Epoch: 154/14999 | Loss: 0.0002 | Episodes: 0 | Win count: 155 | Win rate: 1.000 | time: 58.49 minutes\n",
      "Epoch: 155/14999 | Loss: 0.0003 | Episodes: 0 | Win count: 156 | Win rate: 1.000 | time: 58.51 minutes\n",
      "Epoch: 156/14999 | Loss: 0.0001 | Episodes: 0 | Win count: 157 | Win rate: 1.000 | time: 58.55 minutes\n",
      "Epoch: 157/14999 | Loss: 0.0002 | Episodes: 0 | Win count: 158 | Win rate: 1.000 | time: 58.59 minutes\n",
      "Epoch: 158/14999 | Loss: 0.0001 | Episodes: 0 | Win count: 159 | Win rate: 1.000 | time: 58.66 minutes\n",
      "Epoch: 159/14999 | Loss: 0.0003 | Episodes: 0 | Win count: 160 | Win rate: 1.000 | time: 58.67 minutes\n",
      "Epoch: 160/14999 | Loss: 0.0003 | Episodes: 0 | Win count: 161 | Win rate: 1.000 | time: 58.72 minutes\n"
     ]
    },
    {
     "name": "stdout",
     "output_type": "stream",
     "text": [
      "Epoch: 161/14999 | Loss: 0.0003 | Episodes: 0 | Win count: 162 | Win rate: 1.000 | time: 58.79 minutes\n",
      "Epoch: 162/14999 | Loss: 0.0002 | Episodes: 0 | Win count: 163 | Win rate: 1.000 | time: 58.89 minutes\n",
      "Epoch: 163/14999 | Loss: 0.0001 | Episodes: 0 | Win count: 164 | Win rate: 1.000 | time: 58.95 minutes\n",
      "Epoch: 164/14999 | Loss: 0.0004 | Episodes: 0 | Win count: 165 | Win rate: 1.000 | time: 59.03 minutes\n",
      "Epoch: 165/14999 | Loss: 0.0002 | Episodes: 0 | Win count: 166 | Win rate: 1.000 | time: 59.10 minutes\n",
      "Epoch: 166/14999 | Loss: 0.0007 | Episodes: 0 | Win count: 167 | Win rate: 1.000 | time: 59.16 minutes\n",
      "Epoch: 167/14999 | Loss: 0.0001 | Episodes: 0 | Win count: 168 | Win rate: 1.000 | time: 59.20 minutes\n",
      "Epoch: 168/14999 | Loss: 0.0001 | Episodes: 0 | Win count: 169 | Win rate: 1.000 | time: 59.27 minutes\n",
      "Epoch: 169/14999 | Loss: 0.0004 | Episodes: 0 | Win count: 170 | Win rate: 1.000 | time: 59.33 minutes\n",
      "Epoch: 170/14999 | Loss: 0.0003 | Episodes: 0 | Win count: 171 | Win rate: 1.000 | time: 59.36 minutes\n",
      "Epoch: 171/14999 | Loss: 0.0008 | Episodes: 0 | Win count: 172 | Win rate: 1.000 | time: 59.42 minutes\n",
      "Epoch: 172/14999 | Loss: 0.0006 | Episodes: 0 | Win count: 173 | Win rate: 1.000 | time: 59.46 minutes\n",
      "Epoch: 173/14999 | Loss: 0.0008 | Episodes: 0 | Win count: 174 | Win rate: 1.000 | time: 59.53 minutes\n",
      "Epoch: 174/14999 | Loss: 0.0004 | Episodes: 0 | Win count: 175 | Win rate: 1.000 | time: 59.59 minutes\n",
      "Epoch: 175/14999 | Loss: 0.0010 | Episodes: 0 | Win count: 176 | Win rate: 1.000 | time: 59.68 minutes\n",
      "Epoch: 176/14999 | Loss: 0.0009 | Episodes: 0 | Win count: 177 | Win rate: 1.000 | time: 59.69 minutes\n",
      "Epoch: 177/14999 | Loss: 0.0006 | Episodes: 0 | Win count: 178 | Win rate: 1.000 | time: 59.73 minutes\n",
      "Epoch: 178/14999 | Loss: 0.0004 | Episodes: 0 | Win count: 179 | Win rate: 1.000 | time: 59.77 minutes\n",
      "Epoch: 179/14999 | Loss: 0.0003 | Episodes: 0 | Win count: 180 | Win rate: 1.000 | time: 59.83 minutes\n",
      "Epoch: 180/14999 | Loss: 0.0002 | Episodes: 0 | Win count: 181 | Win rate: 1.000 | time: 59.89 minutes\n",
      "Epoch: 181/14999 | Loss: 0.0004 | Episodes: 0 | Win count: 182 | Win rate: 1.000 | time: 59.96 minutes\n",
      "Epoch: 182/14999 | Loss: 0.0002 | Episodes: 0 | Win count: 183 | Win rate: 1.000 | time: 59.98 minutes\n",
      "Epoch: 183/14999 | Loss: 0.0002 | Episodes: 0 | Win count: 184 | Win rate: 1.000 | time: 59.98 minutes\n",
      "Epoch: 184/14999 | Loss: 0.0003 | Episodes: 0 | Win count: 185 | Win rate: 1.000 | time: 60.00 minutes\n",
      "Epoch: 185/14999 | Loss: 0.0004 | Episodes: 0 | Win count: 186 | Win rate: 1.000 | time: 60.04 minutes\n",
      "Epoch: 186/14999 | Loss: 0.0003 | Episodes: 0 | Win count: 187 | Win rate: 1.000 | time: 60.06 minutes\n",
      "Epoch: 187/14999 | Loss: 0.0003 | Episodes: 0 | Win count: 188 | Win rate: 1.000 | time: 60.13 minutes\n",
      "Epoch: 188/14999 | Loss: 0.0005 | Episodes: 0 | Win count: 189 | Win rate: 1.000 | time: 60.15 minutes\n",
      "Epoch: 189/14999 | Loss: 0.0004 | Episodes: 0 | Win count: 190 | Win rate: 1.000 | time: 60.16 minutes\n",
      "Epoch: 190/14999 | Loss: 0.0002 | Episodes: 0 | Win count: 191 | Win rate: 1.000 | time: 60.20 minutes\n",
      "Epoch: 191/14999 | Loss: 0.0002 | Episodes: 0 | Win count: 192 | Win rate: 1.000 | time: 60.22 minutes\n",
      "Epoch: 192/14999 | Loss: 0.0000 | Episodes: 0 | Win count: 193 | Win rate: 1.000 | time: 60.24 minutes\n",
      "Epoch: 193/14999 | Loss: 0.0003 | Episodes: 0 | Win count: 194 | Win rate: 1.000 | time: 60.30 minutes\n",
      "Epoch: 194/14999 | Loss: 0.0003 | Episodes: 0 | Win count: 195 | Win rate: 1.000 | time: 60.37 minutes\n",
      "Epoch: 195/14999 | Loss: 0.0003 | Episodes: 0 | Win count: 196 | Win rate: 1.000 | time: 60.42 minutes\n",
      "Epoch: 196/14999 | Loss: 0.0005 | Episodes: 0 | Win count: 197 | Win rate: 1.000 | time: 60.50 minutes\n",
      "Epoch: 197/14999 | Loss: 0.0005 | Episodes: 0 | Win count: 198 | Win rate: 1.000 | time: 60.52 minutes\n",
      "Epoch: 198/14999 | Loss: 0.0005 | Episodes: 0 | Win count: 199 | Win rate: 1.000 | time: 60.57 minutes\n",
      "Epoch: 199/14999 | Loss: 0.0001 | Episodes: 0 | Win count: 200 | Win rate: 1.000 | time: 60.64 minutes\n",
      "Epoch: 200/14999 | Loss: 0.0004 | Episodes: 0 | Win count: 201 | Win rate: 1.000 | time: 60.69 minutes\n",
      "Epoch: 201/14999 | Loss: 0.0004 | Episodes: 0 | Win count: 202 | Win rate: 1.000 | time: 60.70 minutes\n",
      "Epoch: 202/14999 | Loss: 0.0001 | Episodes: 0 | Win count: 203 | Win rate: 1.000 | time: 60.71 minutes\n",
      "Epoch: 203/14999 | Loss: 0.0006 | Episodes: 0 | Win count: 204 | Win rate: 1.000 | time: 60.74 minutes\n",
      "Epoch: 204/14999 | Loss: 0.0005 | Episodes: 0 | Win count: 205 | Win rate: 1.000 | time: 60.81 minutes\n",
      "Epoch: 205/14999 | Loss: 0.0005 | Episodes: 0 | Win count: 206 | Win rate: 1.000 | time: 60.85 minutes\n",
      "Epoch: 206/14999 | Loss: 0.0002 | Episodes: 0 | Win count: 207 | Win rate: 1.000 | time: 60.92 minutes\n",
      "Epoch: 207/14999 | Loss: 0.0004 | Episodes: 0 | Win count: 208 | Win rate: 1.000 | time: 60.94 minutes\n",
      "Epoch: 208/14999 | Loss: 0.0007 | Episodes: 0 | Win count: 209 | Win rate: 1.000 | time: 61.00 minutes\n",
      "Epoch: 209/14999 | Loss: 0.0008 | Episodes: 0 | Win count: 210 | Win rate: 1.000 | time: 61.06 minutes\n",
      "Epoch: 210/14999 | Loss: 0.0003 | Episodes: 0 | Win count: 211 | Win rate: 1.000 | time: 61.12 minutes\n",
      "Epoch: 211/14999 | Loss: 0.0008 | Episodes: 0 | Win count: 212 | Win rate: 1.000 | time: 61.17 minutes\n",
      "Epoch: 212/14999 | Loss: 0.0008 | Episodes: 0 | Win count: 213 | Win rate: 1.000 | time: 61.22 minutes\n",
      "Epoch: 213/14999 | Loss: 0.0005 | Episodes: 0 | Win count: 214 | Win rate: 1.000 | time: 61.28 minutes\n",
      "Epoch: 214/14999 | Loss: 0.0008 | Episodes: 0 | Win count: 215 | Win rate: 1.000 | time: 61.30 minutes\n",
      "Epoch: 215/14999 | Loss: 0.0004 | Episodes: 0 | Win count: 216 | Win rate: 1.000 | time: 61.33 minutes\n",
      "Epoch: 216/14999 | Loss: 0.0005 | Episodes: 0 | Win count: 217 | Win rate: 1.000 | time: 61.36 minutes\n",
      "Epoch: 217/14999 | Loss: 0.0009 | Episodes: 0 | Win count: 218 | Win rate: 1.000 | time: 61.39 minutes\n",
      "Epoch: 218/14999 | Loss: 0.0006 | Episodes: 0 | Win count: 219 | Win rate: 1.000 | time: 61.45 minutes\n",
      "Epoch: 219/14999 | Loss: 0.0008 | Episodes: 0 | Win count: 220 | Win rate: 1.000 | time: 61.49 minutes\n",
      "Epoch: 220/14999 | Loss: 0.0004 | Episodes: 0 | Win count: 221 | Win rate: 1.000 | time: 61.56 minutes\n",
      "Epoch: 221/14999 | Loss: 0.0005 | Episodes: 0 | Win count: 222 | Win rate: 1.000 | time: 61.57 minutes\n",
      "Epoch: 222/14999 | Loss: 0.0004 | Episodes: 0 | Win count: 223 | Win rate: 1.000 | time: 61.63 minutes\n",
      "Epoch: 223/14999 | Loss: 0.0006 | Episodes: 0 | Win count: 224 | Win rate: 1.000 | time: 61.66 minutes\n",
      "Epoch: 224/14999 | Loss: 0.0003 | Episodes: 0 | Win count: 225 | Win rate: 1.000 | time: 61.77 minutes\n",
      "Epoch: 225/14999 | Loss: 0.0007 | Episodes: 0 | Win count: 226 | Win rate: 1.000 | time: 61.80 minutes\n",
      "Epoch: 226/14999 | Loss: 0.0004 | Episodes: 0 | Win count: 227 | Win rate: 1.000 | time: 61.87 minutes\n",
      "Epoch: 227/14999 | Loss: 0.0006 | Episodes: 0 | Win count: 228 | Win rate: 1.000 | time: 61.90 minutes\n",
      "Epoch: 228/14999 | Loss: 0.0005 | Episodes: 0 | Win count: 229 | Win rate: 1.000 | time: 61.93 minutes\n",
      "Epoch: 229/14999 | Loss: 0.0006 | Episodes: 0 | Win count: 230 | Win rate: 1.000 | time: 62.00 minutes\n",
      "Epoch: 230/14999 | Loss: 0.0010 | Episodes: 0 | Win count: 231 | Win rate: 1.000 | time: 62.07 minutes\n",
      "Epoch: 231/14999 | Loss: 0.0001 | Episodes: 0 | Win count: 232 | Win rate: 1.000 | time: 62.14 minutes\n",
      "Epoch: 232/14999 | Loss: 0.0006 | Episodes: 0 | Win count: 233 | Win rate: 1.000 | time: 62.19 minutes\n",
      "Epoch: 233/14999 | Loss: 0.0002 | Episodes: 0 | Win count: 234 | Win rate: 1.000 | time: 62.20 minutes\n",
      "Epoch: 234/14999 | Loss: 0.0004 | Episodes: 0 | Win count: 235 | Win rate: 1.000 | time: 62.21 minutes\n",
      "Epoch: 235/14999 | Loss: 0.0002 | Episodes: 0 | Win count: 236 | Win rate: 1.000 | time: 62.24 minutes\n",
      "Epoch: 236/14999 | Loss: 0.0005 | Episodes: 0 | Win count: 237 | Win rate: 1.000 | time: 62.31 minutes\n",
      "Epoch: 237/14999 | Loss: 0.0010 | Episodes: 0 | Win count: 238 | Win rate: 1.000 | time: 62.34 minutes\n",
      "Epoch: 238/14999 | Loss: 0.0007 | Episodes: 0 | Win count: 239 | Win rate: 1.000 | time: 62.35 minutes\n",
      "Epoch: 239/14999 | Loss: 0.0002 | Episodes: 0 | Win count: 240 | Win rate: 1.000 | time: 62.42 minutes\n",
      "Epoch: 240/14999 | Loss: 0.0007 | Episodes: 0 | Win count: 241 | Win rate: 1.000 | time: 62.46 minutes\n"
     ]
    },
    {
     "name": "stdout",
     "output_type": "stream",
     "text": [
      "Epoch: 241/14999 | Loss: 0.0004 | Episodes: 0 | Win count: 242 | Win rate: 1.000 | time: 62.55 minutes\n",
      "Epoch: 242/14999 | Loss: 0.0008 | Episodes: 0 | Win count: 243 | Win rate: 1.000 | time: 62.58 minutes\n",
      "Epoch: 243/14999 | Loss: 0.0005 | Episodes: 0 | Win count: 244 | Win rate: 1.000 | time: 62.63 minutes\n",
      "Epoch: 244/14999 | Loss: 0.0005 | Episodes: 0 | Win count: 245 | Win rate: 1.000 | time: 62.65 minutes\n",
      "Epoch: 245/14999 | Loss: 0.0004 | Episodes: 0 | Win count: 246 | Win rate: 1.000 | time: 62.66 minutes\n",
      "Epoch: 246/14999 | Loss: 0.0002 | Episodes: 0 | Win count: 247 | Win rate: 1.000 | time: 62.73 minutes\n",
      "Epoch: 247/14999 | Loss: 0.0006 | Episodes: 0 | Win count: 248 | Win rate: 1.000 | time: 62.89 minutes\n",
      "Epoch: 248/14999 | Loss: 0.0003 | Episodes: 0 | Win count: 249 | Win rate: 1.000 | time: 62.94 minutes\n",
      "Epoch: 249/14999 | Loss: 0.0002 | Episodes: 0 | Win count: 250 | Win rate: 1.000 | time: 62.99 minutes\n",
      "Epoch: 250/14999 | Loss: 0.0003 | Episodes: 0 | Win count: 251 | Win rate: 1.000 | time: 63.05 minutes\n",
      "Epoch: 251/14999 | Loss: 0.0008 | Episodes: 0 | Win count: 252 | Win rate: 1.000 | time: 63.09 minutes\n",
      "Epoch: 252/14999 | Loss: 0.0001 | Episodes: 0 | Win count: 253 | Win rate: 1.000 | time: 63.10 minutes\n",
      "Epoch: 253/14999 | Loss: 0.0004 | Episodes: 0 | Win count: 254 | Win rate: 1.000 | time: 63.14 minutes\n",
      "Epoch: 254/14999 | Loss: 0.0002 | Episodes: 0 | Win count: 255 | Win rate: 1.000 | time: 63.17 minutes\n",
      "Epoch: 255/14999 | Loss: 0.0002 | Episodes: 0 | Win count: 256 | Win rate: 1.000 | time: 63.23 minutes\n",
      "Epoch: 256/14999 | Loss: 0.0001 | Episodes: 0 | Win count: 257 | Win rate: 1.000 | time: 63.29 minutes\n",
      "Epoch: 257/14999 | Loss: 0.0002 | Episodes: 0 | Win count: 258 | Win rate: 1.000 | time: 63.34 minutes\n",
      "Epoch: 258/14999 | Loss: 0.0005 | Episodes: 0 | Win count: 259 | Win rate: 1.000 | time: 63.38 minutes\n",
      "Epoch: 259/14999 | Loss: 0.0005 | Episodes: 0 | Win count: 260 | Win rate: 1.000 | time: 63.43 minutes\n",
      "Epoch: 260/14999 | Loss: 0.0001 | Episodes: 0 | Win count: 261 | Win rate: 1.000 | time: 63.50 minutes\n",
      "Epoch: 261/14999 | Loss: 0.0002 | Episodes: 0 | Win count: 262 | Win rate: 1.000 | time: 63.54 minutes\n",
      "Epoch: 262/14999 | Loss: 0.0001 | Episodes: 0 | Win count: 263 | Win rate: 1.000 | time: 63.59 minutes\n",
      "Epoch: 263/14999 | Loss: 0.0002 | Episodes: 0 | Win count: 264 | Win rate: 1.000 | time: 63.61 minutes\n",
      "Epoch: 264/14999 | Loss: 0.0005 | Episodes: 0 | Win count: 265 | Win rate: 1.000 | time: 63.65 minutes\n",
      "Epoch: 265/14999 | Loss: 0.0002 | Episodes: 0 | Win count: 266 | Win rate: 1.000 | time: 63.66 minutes\n",
      "Epoch: 266/14999 | Loss: 0.0001 | Episodes: 0 | Win count: 267 | Win rate: 1.000 | time: 63.74 minutes\n",
      "Epoch: 267/14999 | Loss: 0.0001 | Episodes: 0 | Win count: 268 | Win rate: 1.000 | time: 63.79 minutes\n",
      "Epoch: 268/14999 | Loss: 0.0001 | Episodes: 0 | Win count: 269 | Win rate: 1.000 | time: 63.82 minutes\n",
      "Epoch: 269/14999 | Loss: 0.0001 | Episodes: 0 | Win count: 270 | Win rate: 1.000 | time: 63.88 minutes\n",
      "Epoch: 270/14999 | Loss: 0.0007 | Episodes: 0 | Win count: 271 | Win rate: 1.000 | time: 63.93 minutes\n",
      "Epoch: 271/14999 | Loss: 0.0001 | Episodes: 0 | Win count: 272 | Win rate: 1.000 | time: 63.95 minutes\n",
      "Epoch: 272/14999 | Loss: 0.0004 | Episodes: 0 | Win count: 273 | Win rate: 1.000 | time: 63.98 minutes\n",
      "Epoch: 273/14999 | Loss: 0.0001 | Episodes: 0 | Win count: 274 | Win rate: 1.000 | time: 64.07 minutes\n",
      "Epoch: 274/14999 | Loss: 0.0002 | Episodes: 0 | Win count: 275 | Win rate: 1.000 | time: 64.11 minutes\n",
      "Epoch: 275/14999 | Loss: 0.0002 | Episodes: 0 | Win count: 276 | Win rate: 1.000 | time: 64.17 minutes\n",
      "Epoch: 276/14999 | Loss: 0.0011 | Episodes: 0 | Win count: 277 | Win rate: 1.000 | time: 64.18 minutes\n",
      "Epoch: 277/14999 | Loss: 0.0007 | Episodes: 0 | Win count: 278 | Win rate: 1.000 | time: 64.26 minutes\n",
      "Epoch: 278/14999 | Loss: 0.0003 | Episodes: 0 | Win count: 279 | Win rate: 1.000 | time: 64.28 minutes\n",
      "Epoch: 279/14999 | Loss: 0.0001 | Episodes: 0 | Win count: 280 | Win rate: 1.000 | time: 64.32 minutes\n",
      "Epoch: 280/14999 | Loss: 0.0005 | Episodes: 0 | Win count: 281 | Win rate: 1.000 | time: 64.36 minutes\n",
      "Epoch: 281/14999 | Loss: 0.0003 | Episodes: 0 | Win count: 282 | Win rate: 1.000 | time: 64.44 minutes\n",
      "Epoch: 282/14999 | Loss: 0.0004 | Episodes: 0 | Win count: 283 | Win rate: 1.000 | time: 64.49 minutes\n",
      "Epoch: 283/14999 | Loss: 0.0001 | Episodes: 0 | Win count: 284 | Win rate: 1.000 | time: 64.56 minutes\n",
      "Epoch: 284/14999 | Loss: 0.0004 | Episodes: 0 | Win count: 285 | Win rate: 1.000 | time: 64.61 minutes\n",
      "Epoch: 285/14999 | Loss: 0.0005 | Episodes: 0 | Win count: 286 | Win rate: 1.000 | time: 64.68 minutes\n",
      "Epoch: 286/14999 | Loss: 0.0001 | Episodes: 0 | Win count: 287 | Win rate: 1.000 | time: 64.70 minutes\n",
      "Epoch: 287/14999 | Loss: 0.0006 | Episodes: 0 | Win count: 288 | Win rate: 1.000 | time: 64.72 minutes\n",
      "Epoch: 288/14999 | Loss: 0.0007 | Episodes: 0 | Win count: 289 | Win rate: 1.000 | time: 64.77 minutes\n",
      "Epoch: 289/14999 | Loss: 0.0001 | Episodes: 0 | Win count: 290 | Win rate: 1.000 | time: 64.85 minutes\n",
      "Epoch: 290/14999 | Loss: 0.0002 | Episodes: 0 | Win count: 291 | Win rate: 1.000 | time: 64.91 minutes\n",
      "Epoch: 291/14999 | Loss: 0.0003 | Episodes: 0 | Win count: 292 | Win rate: 1.000 | time: 64.98 minutes\n",
      "Epoch: 292/14999 | Loss: 0.0007 | Episodes: 0 | Win count: 293 | Win rate: 1.000 | time: 64.99 minutes\n",
      "Epoch: 293/14999 | Loss: 0.0009 | Episodes: 0 | Win count: 294 | Win rate: 1.000 | time: 65.06 minutes\n",
      "Epoch: 294/14999 | Loss: 0.0002 | Episodes: 0 | Win count: 295 | Win rate: 1.000 | time: 65.11 minutes\n",
      "Epoch: 295/14999 | Loss: 0.0003 | Episodes: 0 | Win count: 296 | Win rate: 1.000 | time: 65.19 minutes\n",
      "Epoch: 296/14999 | Loss: 0.0006 | Episodes: 0 | Win count: 297 | Win rate: 1.000 | time: 65.26 minutes\n",
      "Epoch: 297/14999 | Loss: 0.0005 | Episodes: 0 | Win count: 298 | Win rate: 1.000 | time: 65.28 minutes\n",
      "Epoch: 298/14999 | Loss: 0.0000 | Episodes: 0 | Win count: 299 | Win rate: 1.000 | time: 65.35 minutes\n",
      "Epoch: 299/14999 | Loss: 0.0008 | Episodes: 0 | Win count: 300 | Win rate: 1.000 | time: 65.41 minutes\n",
      "Epoch: 300/14999 | Loss: 0.0006 | Episodes: 0 | Win count: 301 | Win rate: 1.000 | time: 65.47 minutes\n",
      "Epoch: 301/14999 | Loss: 0.0002 | Episodes: 0 | Win count: 302 | Win rate: 1.000 | time: 65.52 minutes\n",
      "Epoch: 302/14999 | Loss: 0.0006 | Episodes: 0 | Win count: 303 | Win rate: 1.000 | time: 65.54 minutes\n",
      "Epoch: 303/14999 | Loss: 0.0005 | Episodes: 0 | Win count: 304 | Win rate: 1.000 | time: 65.58 minutes\n",
      "Epoch: 304/14999 | Loss: 0.0009 | Episodes: 0 | Win count: 305 | Win rate: 1.000 | time: 65.63 minutes\n",
      "Epoch: 305/14999 | Loss: 0.0009 | Episodes: 0 | Win count: 306 | Win rate: 1.000 | time: 65.65 minutes\n",
      "Epoch: 306/14999 | Loss: 0.0009 | Episodes: 0 | Win count: 307 | Win rate: 1.000 | time: 65.67 minutes\n",
      "Epoch: 307/14999 | Loss: 0.0007 | Episodes: 0 | Win count: 308 | Win rate: 1.000 | time: 65.67 minutes\n",
      "Epoch: 308/14999 | Loss: 0.0004 | Episodes: 0 | Win count: 309 | Win rate: 1.000 | time: 65.70 minutes\n",
      "Epoch: 309/14999 | Loss: 0.0003 | Episodes: 0 | Win count: 310 | Win rate: 1.000 | time: 65.74 minutes\n",
      "Epoch: 310/14999 | Loss: 0.0007 | Episodes: 0 | Win count: 311 | Win rate: 1.000 | time: 65.77 minutes\n",
      "Epoch: 311/14999 | Loss: 0.0003 | Episodes: 0 | Win count: 312 | Win rate: 1.000 | time: 65.82 minutes\n",
      "Epoch: 312/14999 | Loss: 0.0005 | Episodes: 0 | Win count: 313 | Win rate: 1.000 | time: 65.87 minutes\n",
      "Epoch: 313/14999 | Loss: 0.0008 | Episodes: 0 | Win count: 314 | Win rate: 1.000 | time: 65.90 minutes\n",
      "Epoch: 314/14999 | Loss: 0.0002 | Episodes: 0 | Win count: 315 | Win rate: 1.000 | time: 65.92 minutes\n",
      "Epoch: 315/14999 | Loss: 0.0005 | Episodes: 0 | Win count: 316 | Win rate: 1.000 | time: 65.98 minutes\n",
      "Epoch: 316/14999 | Loss: 0.0003 | Episodes: 0 | Win count: 317 | Win rate: 1.000 | time: 66.04 minutes\n",
      "Epoch: 317/14999 | Loss: 0.0003 | Episodes: 0 | Win count: 318 | Win rate: 1.000 | time: 66.10 minutes\n",
      "Epoch: 318/14999 | Loss: 0.0008 | Episodes: 0 | Win count: 319 | Win rate: 1.000 | time: 66.18 minutes\n",
      "Epoch: 319/14999 | Loss: 0.0008 | Episodes: 0 | Win count: 320 | Win rate: 1.000 | time: 66.26 minutes\n",
      "Epoch: 320/14999 | Loss: 0.0004 | Episodes: 0 | Win count: 321 | Win rate: 1.000 | time: 66.30 minutes\n"
     ]
    },
    {
     "name": "stdout",
     "output_type": "stream",
     "text": [
      "Epoch: 321/14999 | Loss: 0.0007 | Episodes: 0 | Win count: 322 | Win rate: 1.000 | time: 66.31 minutes\n",
      "Epoch: 322/14999 | Loss: 0.0006 | Episodes: 0 | Win count: 323 | Win rate: 1.000 | time: 66.32 minutes\n",
      "Epoch: 323/14999 | Loss: 0.0005 | Episodes: 0 | Win count: 324 | Win rate: 1.000 | time: 66.39 minutes\n",
      "Epoch: 324/14999 | Loss: 0.0002 | Episodes: 0 | Win count: 325 | Win rate: 1.000 | time: 66.46 minutes\n",
      "Epoch: 325/14999 | Loss: 0.0004 | Episodes: 0 | Win count: 326 | Win rate: 1.000 | time: 66.48 minutes\n",
      "Epoch: 326/14999 | Loss: 0.0007 | Episodes: 0 | Win count: 327 | Win rate: 1.000 | time: 66.50 minutes\n",
      "Epoch: 327/14999 | Loss: 0.0004 | Episodes: 0 | Win count: 328 | Win rate: 1.000 | time: 66.56 minutes\n",
      "Epoch: 328/14999 | Loss: 0.0003 | Episodes: 0 | Win count: 329 | Win rate: 1.000 | time: 66.61 minutes\n",
      "Epoch: 329/14999 | Loss: 0.0006 | Episodes: 0 | Win count: 330 | Win rate: 1.000 | time: 66.66 minutes\n",
      "Epoch: 330/14999 | Loss: 0.0004 | Episodes: 0 | Win count: 331 | Win rate: 1.000 | time: 1.11 hours\n",
      "Epoch: 331/14999 | Loss: 0.0001 | Episodes: 0 | Win count: 332 | Win rate: 1.000 | time: 1.11 hours\n",
      "Epoch: 332/14999 | Loss: 0.0002 | Episodes: 0 | Win count: 333 | Win rate: 1.000 | time: 1.11 hours\n",
      "Epoch: 333/14999 | Loss: 0.0003 | Episodes: 0 | Win count: 334 | Win rate: 1.000 | time: 1.12 hours\n",
      "Epoch: 334/14999 | Loss: 0.0002 | Episodes: 0 | Win count: 335 | Win rate: 1.000 | time: 1.12 hours\n",
      "Epoch: 335/14999 | Loss: 0.0002 | Episodes: 0 | Win count: 336 | Win rate: 1.000 | time: 1.12 hours\n",
      "Epoch: 336/14999 | Loss: 0.0004 | Episodes: 0 | Win count: 337 | Win rate: 1.000 | time: 1.12 hours\n",
      "Epoch: 337/14999 | Loss: 0.0003 | Episodes: 0 | Win count: 338 | Win rate: 1.000 | time: 1.12 hours\n",
      "Epoch: 338/14999 | Loss: 0.0004 | Episodes: 0 | Win count: 339 | Win rate: 1.000 | time: 1.12 hours\n",
      "Epoch: 339/14999 | Loss: 0.0004 | Episodes: 0 | Win count: 340 | Win rate: 1.000 | time: 1.12 hours\n",
      "Epoch: 340/14999 | Loss: 0.0001 | Episodes: 0 | Win count: 341 | Win rate: 1.000 | time: 1.12 hours\n",
      "Epoch: 341/14999 | Loss: 0.0003 | Episodes: 0 | Win count: 342 | Win rate: 1.000 | time: 1.12 hours\n",
      "Epoch: 342/14999 | Loss: 0.0001 | Episodes: 0 | Win count: 343 | Win rate: 1.000 | time: 1.13 hours\n",
      "Epoch: 343/14999 | Loss: 0.0001 | Episodes: 0 | Win count: 344 | Win rate: 1.000 | time: 1.13 hours\n",
      "Epoch: 344/14999 | Loss: 0.0000 | Episodes: 0 | Win count: 345 | Win rate: 1.000 | time: 1.13 hours\n",
      "Epoch: 345/14999 | Loss: 0.0002 | Episodes: 0 | Win count: 346 | Win rate: 1.000 | time: 1.13 hours\n",
      "Epoch: 346/14999 | Loss: 0.0003 | Episodes: 0 | Win count: 347 | Win rate: 1.000 | time: 1.13 hours\n",
      "Epoch: 347/14999 | Loss: 0.0005 | Episodes: 0 | Win count: 348 | Win rate: 1.000 | time: 1.13 hours\n",
      "Epoch: 348/14999 | Loss: 0.0006 | Episodes: 0 | Win count: 349 | Win rate: 1.000 | time: 1.13 hours\n",
      "Epoch: 349/14999 | Loss: 0.0006 | Episodes: 0 | Win count: 350 | Win rate: 1.000 | time: 1.13 hours\n",
      "Epoch: 350/14999 | Loss: 0.0009 | Episodes: 0 | Win count: 351 | Win rate: 1.000 | time: 1.13 hours\n",
      "Epoch: 351/14999 | Loss: 0.0005 | Episodes: 0 | Win count: 352 | Win rate: 1.000 | time: 1.13 hours\n",
      "Epoch: 352/14999 | Loss: 0.0007 | Episodes: 0 | Win count: 353 | Win rate: 1.000 | time: 1.13 hours\n",
      "Epoch: 353/14999 | Loss: 0.0002 | Episodes: 0 | Win count: 354 | Win rate: 1.000 | time: 1.13 hours\n",
      "Epoch: 354/14999 | Loss: 0.0004 | Episodes: 0 | Win count: 355 | Win rate: 1.000 | time: 1.14 hours\n",
      "Epoch: 355/14999 | Loss: 0.0003 | Episodes: 0 | Win count: 356 | Win rate: 1.000 | time: 1.14 hours\n",
      "Epoch: 356/14999 | Loss: 0.0001 | Episodes: 0 | Win count: 357 | Win rate: 1.000 | time: 1.14 hours\n",
      "Epoch: 357/14999 | Loss: 0.0007 | Episodes: 0 | Win count: 358 | Win rate: 1.000 | time: 1.14 hours\n",
      "Epoch: 358/14999 | Loss: 0.0004 | Episodes: 0 | Win count: 359 | Win rate: 1.000 | time: 1.14 hours\n",
      "Epoch: 359/14999 | Loss: 0.0004 | Episodes: 0 | Win count: 360 | Win rate: 1.000 | time: 1.14 hours\n",
      "Epoch: 360/14999 | Loss: 0.0004 | Episodes: 0 | Win count: 361 | Win rate: 1.000 | time: 1.14 hours\n",
      "Epoch: 361/14999 | Loss: 0.0009 | Episodes: 0 | Win count: 362 | Win rate: 1.000 | time: 1.14 hours\n",
      "Epoch: 362/14999 | Loss: 0.0005 | Episodes: 0 | Win count: 363 | Win rate: 1.000 | time: 1.14 hours\n",
      "Epoch: 363/14999 | Loss: 0.0006 | Episodes: 0 | Win count: 364 | Win rate: 1.000 | time: 1.14 hours\n",
      "Epoch: 364/14999 | Loss: 0.0005 | Episodes: 0 | Win count: 365 | Win rate: 1.000 | time: 1.14 hours\n",
      "Epoch: 365/14999 | Loss: 0.0005 | Episodes: 0 | Win count: 366 | Win rate: 1.000 | time: 1.14 hours\n",
      "Epoch: 366/14999 | Loss: 0.0002 | Episodes: 0 | Win count: 367 | Win rate: 1.000 | time: 1.15 hours\n",
      "Epoch: 367/14999 | Loss: 0.0004 | Episodes: 0 | Win count: 368 | Win rate: 1.000 | time: 1.15 hours\n",
      "Epoch: 368/14999 | Loss: 0.0005 | Episodes: 0 | Win count: 369 | Win rate: 1.000 | time: 1.15 hours\n",
      "Epoch: 369/14999 | Loss: 0.0006 | Episodes: 0 | Win count: 370 | Win rate: 1.000 | time: 1.15 hours\n",
      "Epoch: 370/14999 | Loss: 0.0004 | Episodes: 0 | Win count: 371 | Win rate: 1.000 | time: 1.15 hours\n",
      "Epoch: 371/14999 | Loss: 0.0006 | Episodes: 0 | Win count: 372 | Win rate: 1.000 | time: 1.15 hours\n",
      "Epoch: 372/14999 | Loss: 0.0007 | Episodes: 0 | Win count: 373 | Win rate: 1.000 | time: 1.15 hours\n",
      "Epoch: 373/14999 | Loss: 0.0005 | Episodes: 0 | Win count: 374 | Win rate: 1.000 | time: 1.15 hours\n",
      "Epoch: 374/14999 | Loss: 0.0003 | Episodes: 0 | Win count: 375 | Win rate: 1.000 | time: 1.15 hours\n",
      "Epoch: 375/14999 | Loss: 0.0002 | Episodes: 0 | Win count: 376 | Win rate: 1.000 | time: 1.15 hours\n",
      "Epoch: 376/14999 | Loss: 0.0008 | Episodes: 0 | Win count: 377 | Win rate: 1.000 | time: 1.15 hours\n",
      "Epoch: 377/14999 | Loss: 0.0002 | Episodes: 0 | Win count: 378 | Win rate: 1.000 | time: 1.15 hours\n",
      "Epoch: 378/14999 | Loss: 0.0005 | Episodes: 0 | Win count: 379 | Win rate: 1.000 | time: 1.15 hours\n",
      "Epoch: 379/14999 | Loss: 0.0004 | Episodes: 0 | Win count: 380 | Win rate: 1.000 | time: 1.16 hours\n",
      "Epoch: 380/14999 | Loss: 0.0010 | Episodes: 0 | Win count: 381 | Win rate: 1.000 | time: 1.16 hours\n",
      "Epoch: 381/14999 | Loss: 0.0001 | Episodes: 0 | Win count: 382 | Win rate: 1.000 | time: 1.16 hours\n",
      "Epoch: 382/14999 | Loss: 0.0002 | Episodes: 0 | Win count: 383 | Win rate: 1.000 | time: 1.16 hours\n",
      "Epoch: 383/14999 | Loss: 0.0005 | Episodes: 0 | Win count: 384 | Win rate: 1.000 | time: 1.16 hours\n",
      "Epoch: 384/14999 | Loss: 0.0004 | Episodes: 0 | Win count: 385 | Win rate: 1.000 | time: 1.16 hours\n",
      "Epoch: 385/14999 | Loss: 0.0002 | Episodes: 0 | Win count: 386 | Win rate: 1.000 | time: 1.16 hours\n",
      "Reached 100% win rate at epoch: 385\n",
      "n_epoch: 385, max_mem: 512, data: 32, time: 1.16 hours\n"
     ]
    },
    {
     "data": {
      "text/plain": [
       "4178.758374"
      ]
     },
     "execution_count": 12,
     "metadata": {},
     "output_type": "execute_result"
    }
   ],
   "source": [
    "model = build_model(maze)\n",
    "qtrain(model, maze, epochs=1000, max_memory=8*maze.size, data_size=32)"
   ]
  },
  {
   "cell_type": "markdown",
   "metadata": {},
   "source": [
    "This cell will check to see if the model passes the completion check. Note: This could take several minutes."
   ]
  },
  {
   "cell_type": "code",
   "execution_count": 13,
   "metadata": {},
   "outputs": [
    {
     "data": {
      "text/plain": [
       "<matplotlib.image.AxesImage at 0x27eaa893f88>"
      ]
     },
     "execution_count": 13,
     "metadata": {},
     "output_type": "execute_result"
    },
    {
     "data": {
      "image/png": "[encoded data removed]",
      "text/plain": [
       "<Figure size 432x288 with 1 Axes>"
      ]
     },
     "metadata": {
      "needs_background": "light"
     },
     "output_type": "display_data"
    }
   ],
   "source": [
    "completion_check(model, qmaze)\n",
    "show(qmaze)"
   ]
  },
  {
   "cell_type": "markdown",
   "metadata": {},
   "source": [
    "This cell will test your model for one game. It will start the pirate at the top-left corner and run play_game. The agent should find a path from the starting position to the target (treasure). The treasure is located in the bottom-right corner."
   ]
  },
  {
   "cell_type": "code",
   "execution_count": 14,
   "metadata": {},
   "outputs": [
    {
     "data": {
      "text/plain": [
       "<matplotlib.image.AxesImage at 0x27eaa8c4708>"
      ]
     },
     "execution_count": 14,
     "metadata": {},
     "output_type": "execute_result"
    },
    {
     "data": {
      "image/png": "[encoded data removed]",
      "text/plain": [
       "<Figure size 432x288 with 1 Axes>"
      ]
     },
     "metadata": {
      "needs_background": "light"
     },
     "output_type": "display_data"
    }
   ],
   "source": [
    "pirate_start = (0, 0)\n",
    "play_game(model, qmaze, pirate_start)\n",
    "show(qmaze)"
   ]
  },
  {
   "cell_type": "markdown",
   "metadata": {},
   "source": [
    "## Save and Submit Your Work\n",
    "After you have finished creating the code for your notebook, save your work. Make sure that your notebook contains your name in the filename (e.g. Doe_Jane_ProjectTwo.ipynb). This will help your instructor access and grade your work easily. Download a copy of your IPYNB file and submit it to Brightspace. Refer to the Jupyter Notebook in Apporto Tutorial if you need help with these tasks."
   ]
  }
 ],
 "metadata": {
  "kernelspec": {
   "display_name": "Python 3",
   "language": "python",
   "name": "python3"
  },
  "language_info": {
   "codemirror_mode": {
    "name": "ipython",
    "version": 3
   },
   "file_extension": ".py",
   "mimetype": "text/x-python",
   "name": "python",
   "nbconvert_exporter": "python",
   "pygments_lexer": "ipython3",
   "version": "3.7.4"
  }
 },
 "nbformat": 4,
 "nbformat_minor": 2
}
